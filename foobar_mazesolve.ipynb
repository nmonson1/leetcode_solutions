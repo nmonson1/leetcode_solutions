{
  "nbformat": 4,
  "nbformat_minor": 0,
  "metadata": {
    "colab": {
      "provenance": [],
      "authorship_tag": "ABX9TyNpjq9NriSXH3T8wBDoCfsG",
      "include_colab_link": true
    },
    "kernelspec": {
      "name": "python3",
      "display_name": "Python 3"
    },
    "language_info": {
      "name": "python"
    }
  },
  "cells": [
    {
      "cell_type": "markdown",
      "metadata": {
        "id": "view-in-github",
        "colab_type": "text"
      },
      "source": [
        "<a href=\"https://colab.research.google.com/github/nmonson1/recreational_programming/blob/main/foobar_mazesolve.ipynb\" target=\"_parent\"><img src=\"https://colab.research.google.com/assets/colab-badge.svg\" alt=\"Open In Colab\"/></a>"
      ]
    },
    {
      "cell_type": "code",
      "execution_count": null,
      "metadata": {
        "id": "qK9FNo4ggKzQ"
      },
      "outputs": [],
      "source": [
        "def get_next_layer(map, ptlist, dist):\n",
        "    height = len(map)\n",
        "    width = len(map[0])\n",
        "    nextlayer=[]\n",
        "    for pt in [pt for pt in ptlist[dist] if pt[2]==0]:\n",
        "        if pt[0] > 0:\n",
        "            toppt = [pt[0]-1, pt[1], map[pt[0]-1][ pt[1]]]\n",
        "            if not any(toppt in layer for layer in ptlist):\n",
        "                nextlayer.append(toppt)\n",
        "        if pt[1] > 0:\n",
        "            leftpt = [pt[0], pt[1]-1, map[pt[0]][ pt[1]-1]]\n",
        "            if not any(leftpt in layer for layer in ptlist):\n",
        "                nextlayer.append(leftpt)\n",
        "        if pt[0] < height-1:\n",
        "            botpt = [pt[0]+1, pt[1], map[pt[0]+1][ pt[1]]]\n",
        "            if not any(botpt in layer for layer in ptlist):\n",
        "                nextlayer.append(botpt)\n",
        "        if pt[1] < width-1:\n",
        "            rightpt = [pt[0], pt[1]+1, map[pt[0]][ pt[1]+1]]\n",
        "            if not any(rightpt in layer for layer in ptlist):\n",
        "                nextlayer.append(rightpt)\n",
        "    for pt in [pt for pt in ptlist[dist] if pt[2]==1]:\n",
        "        if pt[0] > 0:\n",
        "            toppt = [pt[0]-1, pt[1], map[pt[0]-1][ pt[1]]]\n",
        "            if map[toppt[0]][toppt[1]] == 0 and not any(toppt in layer for layer in ptlist):\n",
        "                nextlayer.append(toppt)\n",
        "        if pt[1] > 0:\n",
        "            leftpt = [pt[0], pt[1]-1, map[pt[0]][ pt[1]-1]]\n",
        "            if map[leftpt[0]][leftpt[1]] == 0 and not any(leftpt in layer for layer in ptlist):\n",
        "                nextlayer.append(leftpt)\n",
        "        if pt[0] < height-1:\n",
        "            botpt = [pt[0]+1, pt[1], map[pt[0]+1][ pt[1]]]\n",
        "            if map[botpt[0]][botpt[1]] == 0 and not any(botpt in layer for layer in ptlist):\n",
        "                nextlayer.append(botpt)\n",
        "        if pt[1] < width-1:\n",
        "            rightpt = [pt[0], pt[1]+1, map[pt[0]][ pt[1]+1]]\n",
        "            if map[rightpt[0]][rightpt[1]] == 0 and not any(rightpt in layer for layer in ptlist):\n",
        "                nextlayer.append(rightpt)\n",
        "    return nextlayer\n",
        "\n",
        "def solution(map):\n",
        "    pts_list=[[(0,0,0)]]\n",
        "    there_yet = 0\n",
        "    current_max_dist = 0\n",
        "    while not there_yet:\n",
        "        nextlayer = get_next_layer(map, pts_list, current_max_dist)\n",
        "        if [len(map)-1, len(map[0])-1,0] in nextlayer or [len(map)-1, len(map[0])-1,1] in nextlayer:\n",
        "            there_yet = 1\n",
        "        pts_list.append(nextlayer)\n",
        "        #check if there yet\n",
        "        current_max_dist+=1\n",
        "    return current_max_dist+1\n",
        "\n"
      ]
    },
    {
      "cell_type": "code",
      "source": [
        "map = [[0, 1, 1, 0], [0, 0, 0, 1], [1, 1, 0, 0], [1, 1, 1, 0]]\n",
        "#map = [[0, 0, 0, 0, 0, 0], [1, 1, 1, 1, 1, 0], [0, 0, 0, 0, 0, 0], [0, 1, 1, 1, 1, 1], [0, 1, 1, 1, 1, 1], [0, 0, 0, 0, 0, 0]]\n",
        "#map = [[0,1,0,0,0],[1,0,0,0,0]]\n",
        "solution(map)"
      ],
      "metadata": {
        "colab": {
          "base_uri": "https://localhost:8080/",
          "height": 353
        },
        "id": "CXNhVhSvhV4i",
        "outputId": "da56a853-c6f6-4562-a7b8-9de4ee78b004"
      },
      "execution_count": null,
      "outputs": [
        {
          "output_type": "error",
          "ename": "IndexError",
          "evalue": "ignored",
          "traceback": [
            "\u001b[0;31m---------------------------------------------------------------------------\u001b[0m",
            "\u001b[0;31mIndexError\u001b[0m                                Traceback (most recent call last)",
            "\u001b[0;32m<ipython-input-11-73e63c16c286>\u001b[0m in \u001b[0;36m<module>\u001b[0;34m\u001b[0m\n\u001b[1;32m      2\u001b[0m \u001b[0;31m#map = [[0, 0, 0, 0, 0, 0], [1, 1, 1, 1, 1, 0], [0, 0, 0, 0, 0, 0], [0, 1, 1, 1, 1, 1], [0, 1, 1, 1, 1, 1], [0, 0, 0, 0, 0, 0]]\u001b[0m\u001b[0;34m\u001b[0m\u001b[0;34m\u001b[0m\u001b[0;34m\u001b[0m\u001b[0m\n\u001b[1;32m      3\u001b[0m \u001b[0;31m#map = [[0,1,0,0,0],[1,0,0,0,0]]\u001b[0m\u001b[0;34m\u001b[0m\u001b[0;34m\u001b[0m\u001b[0;34m\u001b[0m\u001b[0m\n\u001b[0;32m----> 4\u001b[0;31m \u001b[0msolution\u001b[0m\u001b[0;34m(\u001b[0m\u001b[0mmap\u001b[0m\u001b[0;34m)\u001b[0m\u001b[0;34m\u001b[0m\u001b[0;34m\u001b[0m\u001b[0m\n\u001b[0m",
            "\u001b[0;32m<ipython-input-8-5c39f36d7f8b>\u001b[0m in \u001b[0;36msolution\u001b[0;34m(map)\u001b[0m\n\u001b[1;32m     16\u001b[0m         \u001b[0millegal_nextlayer\u001b[0m \u001b[0;34m=\u001b[0m \u001b[0;34m[\u001b[0m\u001b[0;34m]\u001b[0m\u001b[0;34m\u001b[0m\u001b[0;34m\u001b[0m\u001b[0m\n\u001b[1;32m     17\u001b[0m         \u001b[0;32mfor\u001b[0m \u001b[0mbasept\u001b[0m \u001b[0;32min\u001b[0m \u001b[0mlegal_ptlist\u001b[0m\u001b[0;34m[\u001b[0m\u001b[0mcurrent_max_dist\u001b[0m\u001b[0;34m-\u001b[0m\u001b[0;36m1\u001b[0m\u001b[0;34m]\u001b[0m\u001b[0;34m:\u001b[0m\u001b[0;34m\u001b[0m\u001b[0;34m\u001b[0m\u001b[0m\n\u001b[0;32m---> 18\u001b[0;31m             \u001b[0;32mfor\u001b[0m \u001b[0madjpt\u001b[0m \u001b[0;32min\u001b[0m \u001b[0mget_adj_pts\u001b[0m\u001b[0;34m(\u001b[0m\u001b[0mbasept\u001b[0m\u001b[0;34m,\u001b[0m \u001b[0mmap\u001b[0m\u001b[0;34m)\u001b[0m\u001b[0;34m:\u001b[0m\u001b[0;34m\u001b[0m\u001b[0;34m\u001b[0m\u001b[0m\n\u001b[0m\u001b[1;32m     19\u001b[0m                 \u001b[0;32mif\u001b[0m \u001b[0mtarget\u001b[0m\u001b[0;34m==\u001b[0m\u001b[0madjpt\u001b[0m\u001b[0;34m:\u001b[0m\u001b[0;34m\u001b[0m\u001b[0;34m\u001b[0m\u001b[0m\n\u001b[1;32m     20\u001b[0m                     \u001b[0;32mreturn\u001b[0m \u001b[0mcurrent_max_dist\u001b[0m\u001b[0;34m\u001b[0m\u001b[0;34m\u001b[0m\u001b[0m\n",
            "\u001b[0;32m<ipython-input-8-5c39f36d7f8b>\u001b[0m in \u001b[0;36mget_adj_pts\u001b[0;34m(pt, map)\u001b[0m\n\u001b[1;32m     42\u001b[0m     \u001b[0mnewpts\u001b[0m \u001b[0;34m=\u001b[0m \u001b[0;34m[\u001b[0m\u001b[0;34m]\u001b[0m\u001b[0;34m\u001b[0m\u001b[0;34m\u001b[0m\u001b[0m\n\u001b[1;32m     43\u001b[0m     \u001b[0mheight\u001b[0m\u001b[0;34m,\u001b[0m \u001b[0mwidth\u001b[0m \u001b[0;34m=\u001b[0m \u001b[0mmap\u001b[0m\u001b[0;34m.\u001b[0m\u001b[0mshape\u001b[0m\u001b[0;34m\u001b[0m\u001b[0;34m\u001b[0m\u001b[0m\n\u001b[0;32m---> 44\u001b[0;31m     \u001b[0;32mif\u001b[0m \u001b[0mpt\u001b[0m\u001b[0;34m[\u001b[0m\u001b[0;36m0\u001b[0m\u001b[0;34m]\u001b[0m \u001b[0;34m>\u001b[0m \u001b[0;36m0\u001b[0m\u001b[0;34m:\u001b[0m\u001b[0;34m\u001b[0m\u001b[0;34m\u001b[0m\u001b[0m\n\u001b[0m\u001b[1;32m     45\u001b[0m         \u001b[0mtoppt\u001b[0m \u001b[0;34m=\u001b[0m \u001b[0;34m[\u001b[0m\u001b[0mpt\u001b[0m\u001b[0;34m[\u001b[0m\u001b[0;36m0\u001b[0m\u001b[0;34m]\u001b[0m\u001b[0;34m-\u001b[0m\u001b[0;36m1\u001b[0m\u001b[0;34m,\u001b[0m \u001b[0mpt\u001b[0m\u001b[0;34m[\u001b[0m\u001b[0;36m1\u001b[0m\u001b[0;34m]\u001b[0m\u001b[0;34m]\u001b[0m\u001b[0;34m\u001b[0m\u001b[0;34m\u001b[0m\u001b[0m\n\u001b[1;32m     46\u001b[0m         \u001b[0mnewpts\u001b[0m\u001b[0;34m.\u001b[0m\u001b[0mappend\u001b[0m\u001b[0;34m(\u001b[0m\u001b[0mtoppt\u001b[0m\u001b[0;34m)\u001b[0m\u001b[0;34m\u001b[0m\u001b[0;34m\u001b[0m\u001b[0m\n",
            "\u001b[0;31mIndexError\u001b[0m: invalid index to scalar variable."
          ]
        }
      ]
    },
    {
      "cell_type": "code",
      "source": [
        "map = []\n",
        "for i in range(20):\n",
        "    row=[]\n",
        "    for j in range(20):\n",
        "        row.append(np.random.randint(0,2))\n",
        "    map.append(row)"
      ],
      "metadata": {
        "id": "VKdyFLO7VXNB"
      },
      "execution_count": null,
      "outputs": []
    },
    {
      "cell_type": "code",
      "source": [
        "map=[[0,,0,,0,,0,,0,,0,,1,,1,,1,,1],\n",
        "[1,,1,,1,,1,,1,,0,,1,,1,,1,,1],\n",
        "[1,,1,,1,,1,,1,,0,,1,,0,,0,,0],\n",
        "[1,,1,,1,,1,,1,,0,,1,,0,,1,,0],\n",
        "[1,,1,,1,,1,,1,,0,,1,,0,,1,,0],\n",
        "[1,,1,,0,,0,,0,,0,,1,,0,,1,,0],\n",
        "[1,,1,,0,,1,,1,,1,,1,,0,,1,,0],\n",
        "[1,,1,,0,,0,,0,,0,,0,,0,,1,,0],\n",
        "[1,,1,,1,,1,,1,,1,,1,,1,,1,,0],\n",
        "[1,,1,,1,,1,,1,,1,,1,,1,,1,,0]]"
      ],
      "metadata": {
        "id": "67KchzLEga_E"
      },
      "execution_count": null,
      "outputs": []
    },
    {
      "cell_type": "code",
      "source": [
        "map = [[0,1,0,0,0,0,0,0,0,0,0,0,0,0,0,0,0,0,0,0,0,0,0,0,0,0],\n",
        "[1,1,1,1,1,1,1,1,1,1,1,1,1,1,1,1,1,1,1,1,1,1,1,1,1,0],\n",
        "[0,0,0,0,0,0,0,0,0,0,0,0,0,0,0,0,0,0,0,0,0,0,0,0,0,0],\n",
        "[0,1,1,1,1,1,1,1,1,1,1,1,1,1,1,1,1,1,1,1,1,1,1,1,1,1],\n",
        "[0,0,0,0,0,0,0,0,0,0,0,0,0,0,0,0,0,0,0,0,0,0,0,0,0,0],\n",
        "[1,1,1,1,1,1,1,1,1,1,1,1,1,1,1,1,1,1,1,1,1,1,1,1,1,0],\n",
        "[0,0,0,0,0,0,0,0,0,0,0,0,0,0,0,0,0,0,0,0,0,0,0,0,0,0],\n",
        "[0,1,1,1,1,1,1,1,1,1,1,1,1,1,1,1,1,1,1,1,1,1,1,1,1,1],\n",
        "[0,0,0,0,0,0,0,0,0,0,0,0,0,0,0,0,0,0,0,0,0,0,0,0,0,0],\n",
        "[1,1,1,1,1,1,1,1,1,1,1,1,1,1,1,1,1,1,1,1,1,1,1,1,1,0],\n",
        "[0,0,0,0,0,0,0,0,0,0,0,0,0,0,0,0,0,0,0,0,0,0,0,0,0,0],\n",
        "[0,1,1,1,1,1,1,1,1,1,1,1,1,1,1,1,1,1,1,1,1,1,1,1,1,1],\n",
        "[0,0,0,0,0,0,0,0,0,0,0,0,0,0,0,0,0,0,0,0,0,0,0,0,0,0],\n",
        "[1,1,1,1,1,1,1,1,1,1,1,1,1,1,1,1,1,1,1,1,1,1,1,1,1,0],\n",
        "[0,0,0,0,0,0,0,0,0,0,0,0,0,0,0,0,0,0,0,0,0,0,0,0,0,0],\n",
        "[0,1,1,1,1,1,1,1,1,1,1,1,1,1,1,1,1,1,1,1,1,1,1,1,1,1],\n",
        "[0,0,0,0,0,0,0,0,0,0,0,0,0,0,0,0,0,0,0,0,0,0,0,0,0,0],\n",
        "[1,1,1,1,1,1,1,1,1,1,1,1,1,1,1,1,1,1,1,1,1,1,1,1,1,0],\n",
        "[0,0,0,0,0,0,0,0,0,0,0,0,0,0,0,0,0,0,0,0,0,0,0,0,0,0],\n",
        "[0,1,1,1,1,1,1,1,1,1,1,1,1,1,1,1,1,1,1,1,1,1,1,1,1,1],\n",
        "[0,0,0,0,0,0,0,0,0,0,0,0,0,0,0,0,0,0,0,0,0,0,0,0,0,0],\n",
        "[1,1,1,1,1,1,1,1,1,1,1,1,1,1,1,1,1,1,1,1,1,1,1,1,1,0],\n",
        "[0,0,0,0,0,0,0,0,0,0,0,0,0,0,0,0,0,0,0,0,0,0,0,0,0,0],\n",
        "[0,1,1,1,1,1,1,1,1,1,1,1,1,1,1,1,1,1,1,1,1,1,1,1,1,1],\n",
        "[0,0,0,0,0,0,0,0,0,0,0,0,0,0,0,0,0,0,0,0,0,0,0,0,0,0]]"
      ],
      "metadata": {
        "id": "bFvy3aPo4zn-"
      },
      "execution_count": null,
      "outputs": []
    },
    {
      "cell_type": "code",
      "source": [
        "import numpy as np\n",
        "\n",
        "def solution(map):\n",
        "    legal_ptlist = [[np.zeros((2),dtype=\"int\")]]\n",
        "    illegal_ptlist = [[]]\n",
        "    map = np.asarray(map)\n",
        "    height, width = map.shape\n",
        "    target = np.asarray([height-1, width-1])\n",
        "    legal_steps = np.zeros_like(map, dtype = \"int\")\n",
        "    illegal_steps = np.zeros_like(map, dtype=\"int\")\n",
        "    legal_steps[0,0]=1\n",
        "    current_max_dist = 1\n",
        "    there_yet = False\n",
        "    while not there_yet:\n",
        "        legal_nextlayer = []\n",
        "        illegal_nextlayer = []\n",
        "        for basept in legal_ptlist[current_max_dist-1]:\n",
        "            basept = tuple(basept)\n",
        "            for adjpt in get_adj_pts(basept, map):\n",
        "                adjpt = tuple(adjpt)\n",
        "                if (target-adjpt).sum()==0:\n",
        "                    return current_max_dist+1\n",
        "                if map[tuple(adjpt)]==0:\n",
        "                    if legal_steps[adjpt]==0:\n",
        "                        legal_steps[adjpt]=current_max_dist\n",
        "                        legal_nextlayer.append(adjpt)\n",
        "                else:\n",
        "                    if illegal_steps[adjpt]==0:\n",
        "                        illegal_steps[adjpt]=current_max_dist\n",
        "                        illegal_nextlayer.append(adjpt)\n",
        "        for basept in illegal_ptlist[current_max_dist-1]:\n",
        "            basept = tuple(basept)\n",
        "            for adjpt in get_adj_pts(basept, map):\n",
        "                adjpt = tuple(adjpt)\n",
        "                if (target-adjpt).sum()==0:\n",
        "                    return current_max_dist+1\n",
        "                if map[tuple(adjpt)]==0:\n",
        "                    if illegal_steps[adjpt]==0 and legal_steps[adjpt]==0:\n",
        "                        illegal_steps[adjpt]=current_max_dist\n",
        "                        illegal_nextlayer.append(adjpt)\n",
        "        legal_ptlist.append(legal_nextlayer)\n",
        "        illegal_ptlist.append(illegal_nextlayer)\n",
        "        current_max_dist +=1\n",
        "\n",
        "def get_adj_pts(pt, map):\n",
        "    newpts = []\n",
        "    height, width = map.shape\n",
        "    if pt[0] > 0:\n",
        "        toppt = [pt[0]-1, pt[1]]\n",
        "        newpts.append(toppt)\n",
        "    if pt[1] > 0:\n",
        "        leftpt =  [pt[0], pt[1]-1]\n",
        "        newpts.append(leftpt)\n",
        "    if pt[0] < height-1:\n",
        "        botpt = [pt[0]+1, pt[1]]\n",
        "        newpts.append(botpt)\n",
        "    if pt[1] < width-1:\n",
        "        rightpt =  [pt[0], pt[1]+1]\n",
        "        newpts.append(rightpt)\n",
        "    return newpts"
      ],
      "metadata": {
        "id": "ZH6H-rXB42VZ"
      },
      "execution_count": null,
      "outputs": []
    },
    {
      "cell_type": "code",
      "source": [
        "solution(map)"
      ],
      "metadata": {
        "colab": {
          "base_uri": "https://localhost:8080/"
        },
        "id": "nECtZzEop_tj",
        "outputId": "1baf9dc1-76e5-4eae-85d3-7346bdc6d372"
      },
      "execution_count": null,
      "outputs": [
        {
          "output_type": "execute_result",
          "data": {
            "text/plain": [
              "7"
            ]
          },
          "metadata": {},
          "execution_count": 68
        }
      ]
    },
    {
      "cell_type": "code",
      "source": [],
      "metadata": {
        "id": "dtAoWythGR45"
      },
      "execution_count": null,
      "outputs": []
    }
  ]
}