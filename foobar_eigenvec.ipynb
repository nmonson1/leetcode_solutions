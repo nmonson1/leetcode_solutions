{
  "cells": [
    {
      "cell_type": "markdown",
      "metadata": {
        "id": "view-in-github",
        "colab_type": "text"
      },
      "source": [
        "<a href=\"https://colab.research.google.com/github/nmonson1/recreational_programming/blob/main/foobar_eigenvec.ipynb\" target=\"_parent\"><img src=\"https://colab.research.google.com/assets/colab-badge.svg\" alt=\"Open In Colab\"/></a>"
      ]
    },
    {
      "cell_type": "code",
      "execution_count": null,
      "metadata": {
        "colab": {
          "base_uri": "https://localhost:8080/",
          "height": 425
        },
        "id": "M7TV9cqJB5MQ",
        "outputId": "969f6ea1-f368-4130-f89d-1023e1d43bcc"
      },
      "outputs": [
        {
          "name": "stderr",
          "output_type": "stream",
          "text": [
            "/usr/local/lib/python3.7/dist-packages/ipykernel_launcher.py:9: RuntimeWarning: invalid value encountered in true_divide\n",
            "  if __name__ == '__main__':\n"
          ]
        },
        {
          "ename": "LinAlgError",
          "evalue": "ignored",
          "output_type": "error",
          "traceback": [
            "\u001b[0;31m---------------------------------------------------------------------------\u001b[0m",
            "\u001b[0;31mLinAlgError\u001b[0m                               Traceback (most recent call last)",
            "\u001b[0;32m<ipython-input-27-766451c62368>\u001b[0m in \u001b[0;36m<module>\u001b[0;34m\u001b[0m\n\u001b[1;32m      3\u001b[0m \u001b[0;31m#matr = [[0, 1, 0, 0, 0, 1], [4, 0, 0, 3, 2, 0], [0, 0, 0, 0, 0, 0], [0, 0, 0, 0, 0, 0], [0, 0, 0, 0, 0, 0], [0, 0, 0, 0, 0, 0]]\u001b[0m\u001b[0;34m\u001b[0m\u001b[0;34m\u001b[0m\u001b[0;34m\u001b[0m\u001b[0m\n\u001b[1;32m      4\u001b[0m \u001b[0;31m#desired output [0, 3, 2, 9, 14]\u001b[0m\u001b[0;34m\u001b[0m\u001b[0;34m\u001b[0m\u001b[0;34m\u001b[0m\u001b[0m\n\u001b[0;32m----> 5\u001b[0;31m \u001b[0msolution\u001b[0m\u001b[0;34m(\u001b[0m\u001b[0mmatr\u001b[0m\u001b[0;34m)\u001b[0m\u001b[0;34m\u001b[0m\u001b[0;34m\u001b[0m\u001b[0m\n\u001b[0m",
            "\u001b[0;32m<ipython-input-26-ebebe8124c5a>\u001b[0m in \u001b[0;36msolution\u001b[0;34m(m)\u001b[0m\n\u001b[1;32m      9\u001b[0m     \u001b[0mTM\u001b[0m\u001b[0;34m=\u001b[0m\u001b[0mm\u001b[0m\u001b[0;34m*\u001b[0m\u001b[0mlcm\u001b[0m\u001b[0;34m/\u001b[0m\u001b[0mrowsums\u001b[0m\u001b[0;34m\u001b[0m\u001b[0;34m\u001b[0m\u001b[0m\n\u001b[1;32m     10\u001b[0m \u001b[0;34m\u001b[0m\u001b[0m\n\u001b[0;32m---> 11\u001b[0;31m     \u001b[0mevals\u001b[0m\u001b[0;34m,\u001b[0m\u001b[0mevecs\u001b[0m\u001b[0;34m=\u001b[0m\u001b[0mnp\u001b[0m\u001b[0;34m.\u001b[0m\u001b[0mlinalg\u001b[0m\u001b[0;34m.\u001b[0m\u001b[0meig\u001b[0m\u001b[0;34m(\u001b[0m\u001b[0mTM\u001b[0m\u001b[0;34m.\u001b[0m\u001b[0mT\u001b[0m\u001b[0;34m)\u001b[0m\u001b[0;34m\u001b[0m\u001b[0;34m\u001b[0m\u001b[0m\n\u001b[0m\u001b[1;32m     12\u001b[0m     \u001b[0;32mreturn\u001b[0m \u001b[0mevals\u001b[0m\u001b[0;34m,\u001b[0m\u001b[0mevecs\u001b[0m\u001b[0;34m\u001b[0m\u001b[0;34m\u001b[0m\u001b[0m\n",
            "\u001b[0;32m<__array_function__ internals>\u001b[0m in \u001b[0;36meig\u001b[0;34m(*args, **kwargs)\u001b[0m\n",
            "\u001b[0;32m/usr/local/lib/python3.7/dist-packages/numpy/linalg/linalg.py\u001b[0m in \u001b[0;36meig\u001b[0;34m(a)\u001b[0m\n\u001b[1;32m   1315\u001b[0m     \u001b[0m_assert_stacked_2d\u001b[0m\u001b[0;34m(\u001b[0m\u001b[0ma\u001b[0m\u001b[0;34m)\u001b[0m\u001b[0;34m\u001b[0m\u001b[0;34m\u001b[0m\u001b[0m\n\u001b[1;32m   1316\u001b[0m     \u001b[0m_assert_stacked_square\u001b[0m\u001b[0;34m(\u001b[0m\u001b[0ma\u001b[0m\u001b[0;34m)\u001b[0m\u001b[0;34m\u001b[0m\u001b[0;34m\u001b[0m\u001b[0m\n\u001b[0;32m-> 1317\u001b[0;31m     \u001b[0m_assert_finite\u001b[0m\u001b[0;34m(\u001b[0m\u001b[0ma\u001b[0m\u001b[0;34m)\u001b[0m\u001b[0;34m\u001b[0m\u001b[0;34m\u001b[0m\u001b[0m\n\u001b[0m\u001b[1;32m   1318\u001b[0m     \u001b[0mt\u001b[0m\u001b[0;34m,\u001b[0m \u001b[0mresult_t\u001b[0m \u001b[0;34m=\u001b[0m \u001b[0m_commonType\u001b[0m\u001b[0;34m(\u001b[0m\u001b[0ma\u001b[0m\u001b[0;34m)\u001b[0m\u001b[0;34m\u001b[0m\u001b[0;34m\u001b[0m\u001b[0m\n\u001b[1;32m   1319\u001b[0m \u001b[0;34m\u001b[0m\u001b[0m\n",
            "\u001b[0;32m/usr/local/lib/python3.7/dist-packages/numpy/linalg/linalg.py\u001b[0m in \u001b[0;36m_assert_finite\u001b[0;34m(*arrays)\u001b[0m\n\u001b[1;32m    206\u001b[0m     \u001b[0;32mfor\u001b[0m \u001b[0ma\u001b[0m \u001b[0;32min\u001b[0m \u001b[0marrays\u001b[0m\u001b[0;34m:\u001b[0m\u001b[0;34m\u001b[0m\u001b[0;34m\u001b[0m\u001b[0m\n\u001b[1;32m    207\u001b[0m         \u001b[0;32mif\u001b[0m \u001b[0;32mnot\u001b[0m \u001b[0misfinite\u001b[0m\u001b[0;34m(\u001b[0m\u001b[0ma\u001b[0m\u001b[0;34m)\u001b[0m\u001b[0;34m.\u001b[0m\u001b[0mall\u001b[0m\u001b[0;34m(\u001b[0m\u001b[0;34m)\u001b[0m\u001b[0;34m:\u001b[0m\u001b[0;34m\u001b[0m\u001b[0;34m\u001b[0m\u001b[0m\n\u001b[0;32m--> 208\u001b[0;31m             \u001b[0;32mraise\u001b[0m \u001b[0mLinAlgError\u001b[0m\u001b[0;34m(\u001b[0m\u001b[0;34m\"Array must not contain infs or NaNs\"\u001b[0m\u001b[0;34m)\u001b[0m\u001b[0;34m\u001b[0m\u001b[0;34m\u001b[0m\u001b[0m\n\u001b[0m\u001b[1;32m    209\u001b[0m \u001b[0;34m\u001b[0m\u001b[0m\n\u001b[1;32m    210\u001b[0m \u001b[0;32mdef\u001b[0m \u001b[0m_is_empty_2d\u001b[0m\u001b[0;34m(\u001b[0m\u001b[0marr\u001b[0m\u001b[0;34m)\u001b[0m\u001b[0;34m:\u001b[0m\u001b[0;34m\u001b[0m\u001b[0;34m\u001b[0m\u001b[0m\n",
            "\u001b[0;31mLinAlgError\u001b[0m: Array must not contain infs or NaNs"
          ]
        }
      ],
      "source": [
        "matr = [[0, 2, 1, 0, 0], [0, 0, 0, 3, 4], [0, 0, 0, 0, 0], [0, 0, 0, 0,0], [0, 0, 0, 0, 0]]\n",
        "#desired output [7,6,8,21]\n",
        "#matr = [[0, 1, 0, 0, 0, 1], [4, 0, 0, 3, 2, 0], [0, 0, 0, 0, 0, 0], [0, 0, 0, 0, 0, 0], [0, 0, 0, 0, 0, 0], [0, 0, 0, 0, 0, 0]]\n",
        "#desired output [0, 3, 2, 9, 14]\n",
        "solution(matr)"
      ]
    },
    {
      "cell_type": "code",
      "execution_count": null,
      "metadata": {
        "id": "yjB5vDcpEqQB"
      },
      "outputs": [],
      "source": [
        "#I had a solution with sympy that I made myself, but sympy isn't supported. I looked up some help on absorbing markov chains to get the following:\n",
        "import numpy as np\n",
        "\n",
        "class frac():\n",
        "    def __init__(self,p,q):\n",
        "        self.p=p\n",
        "        self.q=q\n",
        "\n",
        "\n",
        "\"\"\"def simplify(array):\n",
        "    result = array\n",
        "    #we store an array of fractions as their numerators, then 2 extra entries: the common denominator for the row and a label for which row was originally here.\n",
        "    denom_list = []\n",
        "    for row in result:\n",
        "        gcd = np.gcd.reduce(row)\n",
        "        for i,entry in enumerate(row[0:-1]):\n",
        "            row(i)=int(entry/gcd)\n",
        "        denom_list.append(row[-2])\n",
        "    return result\"\"\"\n",
        "\n",
        "def row_reduce(m,d):\n",
        "    num_rows, num_cols = m.shape\n",
        "    h=0\n",
        "    k=0\n",
        "    lcm=np.lcm.reduce(d)\n",
        "\n",
        "\n",
        "    while (h < num_rows and k < num_cols):\n",
        "        i_max = h\n",
        "        for x in range(num_rows-h):\n",
        "            if np.abs(m[i_max+x][k]) > np.abs(m[i_max][k]):\n",
        "                i_max = i_max+x\n",
        "\n",
        "        if m[i_max, k] == 0:\n",
        "            k = k + 1\n",
        "        else:\n",
        "            #print(m[h],m[i_max])\n",
        "            m[[h,i_max]]=m[[i_max,h]]\n",
        "            #d[[h,i_max]]=d[[i_max,h]]\n",
        "            #print(m[h],m[i_max])\n",
        "            for i in np.hstack((np.arange(h),np.arange(h+1,num_rows))):\n",
        "                #print(lcm,m[h,k])\n",
        "                newlcm=np.lcm(lcm,m[h,k])\n",
        "                factor=int(newlcm/lcm)\n",
        "                m=factor*m\n",
        "                lcm=newlcm\n",
        "\n",
        "                f = float(m[i, k]) / float(m[h, k])\n",
        "                #print(m[i, k] , m[h, k])\n",
        "                #/* Fill with zeros the lower part of pivot column: */\n",
        "                m[i, k] = 0\n",
        "                #/* Do for all remaining elements in current row: */\n",
        "                for j in range(k+1,num_cols):\n",
        "                    #print(i,j,f)\n",
        "                    m[i, j] = m[i, j] - int(m[h, j] * f)\n",
        "            #/* Increase pivot row and column */\n",
        "            h = h + 1\n",
        "            k = k + 1\n",
        "    return m,lcm\n",
        "\n",
        "\n",
        "def solution(m):\n",
        "    dim = len(m)\n",
        "    sl=[]\n",
        "    transients=[]\n",
        "    tl=[]\n",
        "    d=[]\n",
        "    for i,row in enumerate(m):\n",
        "        if sum(row)==0:\n",
        "            sl.append(i) #add labels to rows\n",
        "        else:\n",
        "            transients.append(np.asarray(row)) #add denominators to rows\n",
        "            d.append(sum(row))\n",
        "            tl.append(i) #add labels to rows\n",
        "\n",
        "    T=np.asarray(transients)\n",
        "    R=T[:,sl]\n",
        "    S=T[:,tl]\n",
        "    D=np.asarray(d)\n",
        "    lcm=np.lcm.reduce(d)\n",
        "    print(S)\n",
        "    print(R)\n",
        "    for i,denom in enumerate(d):\n",
        "        S[i]=S[i]*lcm/denom\n",
        "        R[i]=R[i]*lcm/denom\n",
        "    M=np.hstack(((lcm*np.eye(len(S),dtype=int)-S),R))\n",
        "    print(S)\n",
        "    print(R)\n",
        "    m,lcm=row_reduce(M,D)\n",
        "\n",
        "    print(m,lcm)\n",
        "    first=m[0][-len(sl):]\n",
        "\n",
        "    print(first,sum(first))\n",
        "#    transarray = np.ndarray(m)\n",
        "#    transarray = simplify(transarray)\n",
        "\n",
        "    #put matrix into form (absorb | 0 )\n",
        "    #                     (R      | S )\n",
        "    #\n",
        "    #We want a row of     (absorb      | 0 )\n",
        "    #                     ((Id-S)^-1 R | 0 )\n",
        "\n",
        "    #((Id-S) | R)\n",
        "\n",
        "\n",
        "\n"
      ]
    },
    {
      "cell_type": "code",
      "execution_count": null,
      "metadata": {
        "colab": {
          "background_save": true
        },
        "id": "VbgVsIzNkagP"
      },
      "outputs": [],
      "source": [
        "#matr = [[0, 2, 1, 0, 0], [0, 0, 0, 3, 4], [0, 0, 0, 0, 0], [0, 0, 0, 0,0], [0, 0, 0, 0, 0]]\n",
        "#desired output [7,6,8,21]\n",
        "matr = [[0, 1, 0, 0, 0, 1], [4, 0, 0, 3, 2, 0], [0, 0, 0, 0, 0, 0], [0, 0, 0, 0, 0, 0], [0, 0, 0, 0, 0, 0], [0, 0, 0, 0, 0, 0]]\n",
        "#desired output [0, 3, 2, 9, 14]\n",
        "#solution(matr)"
      ]
    },
    {
      "cell_type": "code",
      "execution_count": null,
      "metadata": {
        "colab": {
          "base_uri": "https://localhost:8080/"
        },
        "id": "NhEaJhwfZdgm",
        "outputId": "338b5250-500b-47e2-ab6c-92b16cf9f7d4"
      },
      "outputs": [
        {
          "data": {
            "text/plain": [
              "(array([1.        , 0.        , 0.        , 7.66666667]),\n",
              " array([-0.        ,  1.        , -0.        , -1.66666667]),\n",
              " array([-0.        , -0.        ,  1.        , -3.66666667]))"
            ]
          },
          "execution_count": 76,
          "metadata": {},
          "output_type": "execute_result"
        }
      ],
      "source": [
        "#m=np.reshape(np.arange(30),(5,6))\n",
        "m=np.asarray([[2,7,1,0],[1,4,0,1],[2,4,1,5]])\n",
        "n=row_reduce(m,d=np.ones(len(m),dtype=int))\n",
        "n[0][0]/72,n[0][1]/-108,n[0][2]/-18"
      ]
    },
    {
      "cell_type": "markdown",
      "metadata": {
        "id": "DLVc5S2jM6vX"
      },
      "source": [
        "Making fuel for the LAMBCHOP's reactor core is a tricky process because of the exotic matter involved. It starts as raw ore, then during processing, begins randomly changing between forms, eventually reaching a stable form. There may be multiple stable forms that a sample could ultimately reach, not all of which are useful as fuel.\n",
        "\n",
        "Commander Lambda has tasked you to help the scientists increase fuel creation efficiency by predicting the end state of a given ore sample. You have carefully studied the different structures that the ore can take and which transitions it undergoes. It appears that, while random, the probability of each structure transforming is fixed. That is, each time the ore is in 1 state, it has the same probabilities of entering the next state (which might be the same state).  You have recorded the observed transitions in a matrix. The others in the lab have hypothesized more exotic forms that the ore can become, but you haven't seen all of them.\n",
        "\n",
        "Write a function solution(m) that takes an array of array of nonnegative ints representing how many times that state has gone to the next state and return an array of ints for each terminal state giving the exact probabilities of each terminal state, represented as the numerator for each state, then the denominator for all of them at the end and in simplest form. The matrix is at most 10 by 10. It is guaranteed that no matter which state the ore is in, there is a path from that state to a terminal state. That is, the processing will always eventually end in a stable state. The ore starts in state 0. The denominator will fit within a signed 32-bit integer during the calculation, as long as the fraction is simplified regularly.\n",
        "\n",
        "For example, consider the matrix m:\n",
        "[\n",
        "  [0,1,0,0,0,1],  # s0, the initial state, goes to s1 and s5 with equal probability\n",
        "  [4,0,0,3,2,0],  # s1 can become s0, s3, or s4, but with different probabilities\n",
        "  [0,0,0,0,0,0],  # s2 is terminal, and unreachable (never observed in practice)\n",
        "  [0,0,0,0,0,0],  # s3 is terminal\n",
        "  [0,0,0,0,0,0],  # s4 is terminal\n",
        "  [0,0,0,0,0,0],  # s5 is terminal\n",
        "]\n",
        "So, we can consider different paths to terminal states, such as:\n",
        "s0 -> s1 -> s3\n",
        "s0 -> s1 -> s0 -> s1 -> s0 -> s1 -> s4\n",
        "s0 -> s1 -> s0 -> s5\n",
        "Tracing the probabilities of each, we find that\n",
        "s2 has probability 0\n",
        "s3 has probability 3/14\n",
        "s4 has probability 1/7\n",
        "s5 has probability 9/14\n",
        "So, putting that together, and making a common denominator, gives an answer in the form of\n",
        "[s2.numerator, s3.numerator, s4.numerator, s5.numerator, denominator] which is\n",
        "[0, 3, 2, 9, 14]."
      ]
    }
  ],
  "metadata": {
    "colab": {
      "provenance": [],
      "authorship_tag": "ABX9TyOA8iwZJ+2iAue3vDvf0EXs",
      "include_colab_link": true
    },
    "kernelspec": {
      "display_name": "Python 3",
      "name": "python3"
    },
    "language_info": {
      "name": "python"
    }
  },
  "nbformat": 4,
  "nbformat_minor": 0
}